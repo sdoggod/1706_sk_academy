{
 "cells": [
  {
   "cell_type": "code",
   "execution_count": 1,
   "metadata": {},
   "outputs": [
    {
     "name": "stdout",
     "output_type": "stream",
     "text": [
      "Extracting data/train-images-idx3-ubyte.gz\n",
      "Extracting data/train-labels-idx1-ubyte.gz\n",
      "Extracting data/t10k-images-idx3-ubyte.gz\n",
      "Extracting data/t10k-labels-idx1-ubyte.gz\n"
     ]
    }
   ],
   "source": [
    "import tensorflow as tf\n",
    "import numpy as np\n",
    "from IPython.display import Image\n",
    "\n",
    "# Import MINST handwritten digits data\n",
    "from tensorflow.examples.tutorials.mnist import input_data\n",
    "mnist = input_data.read_data_sets(\"data/\", one_hot=True)\n"
   ]
  },
  {
   "cell_type": "markdown",
   "metadata": {},
   "source": [
    "![Image of Yaktocat](http://i.ytimg.com/vi/0QI3xgXuB-Q/hqdefault.jpg)"
   ]
  },
  {
   "cell_type": "code",
   "execution_count": 2,
   "metadata": {
    "collapsed": true
   },
   "outputs": [],
   "source": [
    "train_data =  mnist.train.images.reshape([-1,28,28])\n",
    "train_labels = mnist.train.labels\n",
    "test_data = mnist.test.images.reshape([-1,28,28])\n",
    "test_labels = mnist.test.labels"
   ]
  },
  {
   "cell_type": "code",
   "execution_count": 3,
   "metadata": {
    "scrolled": true
   },
   "outputs": [
    {
     "data": {
      "text/plain": [
       "(55000, 28, 28)"
      ]
     },
     "execution_count": 3,
     "metadata": {},
     "output_type": "execute_result"
    }
   ],
   "source": [
    "train_data.shape\n",
    "# 55000개의 데이"
   ]
  },
  {
   "cell_type": "code",
   "execution_count": 4,
   "metadata": {},
   "outputs": [
    {
     "data": {
      "text/plain": [
       "(10000, 28, 28)"
      ]
     },
     "execution_count": 4,
     "metadata": {},
     "output_type": "execute_result"
    }
   ],
   "source": [
    "test_data.shape"
   ]
  },
  {
   "cell_type": "code",
   "execution_count": 5,
   "metadata": {},
   "outputs": [
    {
     "data": {
      "text/plain": [
       "(10000, 10)"
      ]
     },
     "execution_count": 5,
     "metadata": {},
     "output_type": "execute_result"
    }
   ],
   "source": [
    "test_labels.shape\n"
   ]
  },
  {
   "cell_type": "code",
   "execution_count": 12,
   "metadata": {
    "scrolled": true
   },
   "outputs": [
    {
     "name": "stdout",
     "output_type": "stream",
     "text": [
      "Label number : 9\n",
      "[ 0.  0.  0.  0.  0.  0.  0.  0.  0.  1.]\n"
     ]
    },
    {
     "data": {
      "image/png": "[encoded data removed]",
      "text/plain": [
       "<matplotlib.figure.Figure at 0x7f1dc80ffc90>"
      ]
     },
     "metadata": {},
     "output_type": "display_data"
    }
   ],
   "source": [
    "%matplotlib inline\n",
    "import matplotlib.pyplot as plt\n",
    "\n",
    "data_index = 9890     # 0 ~ 9999\n",
    "\n",
    "plt.imshow(test_data[data_index],cmap='gray')\n",
    "print 'Label number : ' + str(np.argmax(test_labels[data_index]))\n",
    "print test_labels[data_index]"
   ]
  },
  {
   "cell_type": "markdown",
   "metadata": {},
   "source": [
    "## Data stat"
   ]
  },
  {
   "cell_type": "code",
   "execution_count": 6,
   "metadata": {
    "collapsed": true
   },
   "outputs": [],
   "source": [
    "# Network Parameters\n",
    "n_input = 28 # MNIST data input (img shape: 28*28)\n",
    "n_steps = 28 # timesteps\n",
    "n_classes = 10 # MNIST total classes (0-9 digits)\n",
    "\n"
   ]
  },
  {
   "cell_type": "markdown",
   "metadata": {},
   "source": [
    "## Draw Your Graph"
   ]
  },
  {
   "cell_type": "code",
   "execution_count": 7,
   "metadata": {
    "collapsed": true
   },
   "outputs": [],
   "source": [
    "# tf Graph input\n",
    "x = tf.placeholder(\"float\", [None, n_steps, n_input])\n",
    "y = tf.placeholder(\"float\", [None, n_classes])"
   ]
  },
  {
   "cell_type": "code",
   "execution_count": 8,
   "metadata": {
    "scrolled": true
   },
   "outputs": [
    {
     "name": "stdout",
     "output_type": "stream",
     "text": [
      "Tensor(\"Placeholder:0\", shape=(?, 28, 28), dtype=float32)\n",
      "Tensor(\"Placeholder_1:0\", shape=(?, 10), dtype=float32)\n"
     ]
    }
   ],
   "source": [
    "print x\n",
    "print y"
   ]
  },
  {
   "cell_type": "markdown",
   "metadata": {},
   "source": [
    "![Image of Yaktocat](https://ml4a.github.io/images/figures/mnist_1layer.png)"
   ]
  },
  {
   "cell_type": "markdown",
   "metadata": {},
   "source": [
    "Multinomial regression"
   ]
  },
  {
   "cell_type": "code",
   "execution_count": 9,
   "metadata": {
    "collapsed": true
   },
   "outputs": [],
   "source": [
    "# \n",
    "x_v = tf.reshape(x, [-1, 28*28])\n",
    "\n",
    "# n_input * n_input == 784\n",
    "# weight 개수를 맞도록 선언함 : initializse를 여러개 사용 가능\n",
    "weights = tf.Variable(tf.truncated_normal([n_input * n_input, n_classes]))\n",
    "biases = tf.Variable(tf.zeros([n_classes]))\n",
    "logit = tf.matmul(x_v, weights) + biases\n",
    "prediction = logit"
   ]
  },
  {
   "cell_type": "markdown",
   "metadata": {},
   "source": [
    "![Image of Yaktocat](https://ml4a.github.io/images/figures/mnist_2layers.png)"
   ]
  },
  {
   "cell_type": "markdown",
   "metadata": {},
   "source": [
    "Neural Network prediction"
   ]
  },
  {
   "cell_type": "code",
   "execution_count": 10,
   "metadata": {
    "collapsed": true
   },
   "outputs": [],
   "source": [
    "size_of_hidden = 128\n",
    "x_v = tf.reshape(x, [-1, 28*28])\n",
    "weights_1 = tf.Variable(tf.truncated_normal([n_input * n_input, size_of_hidden]))\n",
    "biases_1 = tf.Variable(tf.zeros([size_of_hidden]))\n",
    "logits_1 = tf.matmul(x_v, weights_1) + biases_1\n",
    "output_1 = tf.nn.relu(logits_1)\n",
    "\n",
    "weights_2 = tf.Variable(tf.truncated_normal([size_of_hidden, n_classes]))\n",
    "biases_2 = tf.Variable(tf.zeros([n_classes]))\n",
    "logit = tf.matmul(output_1, weights_2) + biases_2\n",
    "prediction = tf.sigmoid(logit)"
   ]
  },
  {
   "cell_type": "code",
   "execution_count": 11,
   "metadata": {},
   "outputs": [
    {
     "data": {
      "text/plain": [
       "TensorShape([Dimension(784), Dimension(128)])"
      ]
     },
     "execution_count": 11,
     "metadata": {},
     "output_type": "execute_result"
    }
   ],
   "source": [
    "weights_1.get_shape()"
   ]
  },
  {
   "cell_type": "markdown",
   "metadata": {},
   "source": [
    "DNN simple version"
   ]
  },
  {
   "cell_type": "code",
   "execution_count": 12,
   "metadata": {
    "collapsed": true
   },
   "outputs": [],
   "source": [
    "# DNN으로 늘리기 >> launch your ghaph 수행하면 결과 나옴\n",
    "\n",
    "x_v = tf.reshape(x, [-1, 28*28])\n",
    "hidden = tf.contrib.layers.fully_connected(x_v,size_of_hidden,activation_fn=tf.nn.relu)\n",
    "hidden = tf.contrib.layers.fully_connected(hidden,256,activation_fn=tf.nn.relu)\n",
    "hidden = tf.contrib.layers.fully_connected(hidden,128,activation_fn=tf.nn.relu)\n",
    "prediction = tf.contrib.layers.fully_connected(hidden,n_classes,activation_fn=tf.nn.sigmoid)"
   ]
  },
  {
   "cell_type": "code",
   "execution_count": 52,
   "metadata": {},
   "outputs": [
    {
     "data": {
      "text/plain": [
       "TensorShape([Dimension(None), Dimension(128)])"
      ]
     },
     "execution_count": 52,
     "metadata": {},
     "output_type": "execute_result"
    }
   ],
   "source": [
    "hidden1.shape"
   ]
  },
  {
   "cell_type": "markdown",
   "metadata": {},
   "source": [
    "CNN prediction"
   ]
  },
  {
   "cell_type": "markdown",
   "metadata": {},
   "source": [
    "![Image of Yaktocat](https://www.packtpub.com/sites/default/files/Article-Images/B05478_image001.png)"
   ]
  },
  {
   "cell_type": "code",
   "execution_count": 54,
   "metadata": {
    "collapsed": true
   },
   "outputs": [],
   "source": [
    "kernel_size = 3\n",
    "input_channel = 1\n",
    "out_channel = 32\n",
    "hidden_node = 128\n",
    "keep_prob = 1\n",
    "\n",
    "layer1_weights = tf.Variable(tf.truncated_normal([kernel_size, kernel_size, input_channel, out_channel], stddev=0.1))\n",
    "layer1_biases = tf.Variable(tf.zeros([out_channel]))\n",
    "\n",
    "layer2_weights = tf.Variable(tf.truncated_normal([n_input // 4 * n_input // 4 * out_channel, hidden_node], stddev=0.1))\n",
    "layer2_biases = tf.Variable(tf.constant(0.01, shape=[hidden_node]))\n",
    "\n",
    "layer3_weights = tf.Variable(tf.truncated_normal([hidden_node, n_classes], stddev=0.1))\n",
    "layer3_biases = tf.Variable(tf.constant(0.01, shape=[n_classes]))\n",
    "\n",
    "x_cnn = tf.reshape(x, [-1,n_input,n_input,input_channel])\n",
    "\n",
    "conv = tf.nn.conv2d(x_cnn, filter=layer1_weights, strides=[1, 2, 2, 1], padding='VALID') \n",
    "hidden = tf.nn.relu(conv + layer1_biases)\n",
    "\n",
    "pool = tf.nn.max_pool(hidden, ksize=[1, 2, 2, 1], strides=[1, 2, 2, 1], padding='SAME')\n",
    "\n",
    "shape = pool.get_shape().as_list()\n",
    "reshape = tf.reshape(pool, [-1, shape[1] * shape[2] * shape[3]])\n",
    "\n",
    "hidden = tf.nn.relu(tf.matmul(reshape, layer2_weights) + layer2_biases)\n",
    "\n",
    "logit = tf.matmul(hidden, layer3_weights) + layer3_biases\n",
    "prediction= tf.sigmoid(logit)"
   ]
  },
  {
   "cell_type": "code",
   "execution_count": 18,
   "metadata": {},
   "outputs": [
    {
     "data": {
      "text/plain": [
       "<tf.Tensor 'fully_connected_2/Relu:0' shape=(?, 128) dtype=float32>"
      ]
     },
     "execution_count": 18,
     "metadata": {},
     "output_type": "execute_result"
    }
   ],
   "source": []
  },
  {
   "cell_type": "markdown",
   "metadata": {},
   "source": [
    "CNN simple version"
   ]
  },
  {
   "cell_type": "code",
   "execution_count": 55,
   "metadata": {
    "collapsed": true
   },
   "outputs": [],
   "source": [
    "# 쉽게 하는 방법\n",
    "\n",
    "input_channel = 1\n",
    "out_channel = 32\n",
    "hidden_node = 128\n",
    "\n",
    "x_cnn = tf.reshape(x, [-1,28,28,input_channel])\n",
    "\n",
    "# padding='SAME'은 input과 output의 size를 동일하게 되도록 padding 함\n",
    "layer1 = tf.contrib.layers.conv2d(x_cnn,out_channel,kernel_size=3,activation_fn=tf.nn.relu, padding='SAME')\n",
    "pool1 = tf.nn.max_pool(layer1, ksize=[1, 2, 2, 1], strides=[1, 2, 2 , 1], padding='SAME')\n",
    "pool1_flat = tf.reshape(pool1, [-1, 14*14*out_channel])\n",
    "hidden = tf.contrib.layers.fully_connected(pool1_flat,hidden_node,activation_fn=tf.nn.relu)\n",
    "prediction = tf.contrib.layers.fully_connected(hidden,n_classes,activation_fn=tf.nn.sigmoid)"
   ]
  },
  {
   "cell_type": "code",
   "execution_count": 20,
   "metadata": {},
   "outputs": [
    {
     "data": {
      "text/plain": [
       "<tf.Tensor 'MaxPool_2:0' shape=(?, 14, 14, 16) dtype=float32>"
      ]
     },
     "execution_count": 20,
     "metadata": {},
     "output_type": "execute_result"
    }
   ],
   "source": []
  },
  {
   "cell_type": "markdown",
   "metadata": {},
   "source": [
    "Draw your own Best code!"
   ]
  },
  {
   "cell_type": "code",
   "execution_count": 56,
   "metadata": {
    "collapsed": true
   },
   "outputs": [],
   "source": [
    "x_cnn = tf.reshape(x, [-1,28,28,1])\n",
    "# Implement model!\n",
    "\n",
    "layer1 = tf.contrib.layers.conv2d(x_cnn,out_channel,kernel_size=3,activation_fn=tf.nn.relu, padding='SAME')\n",
    "pool1  = tf.nn.max_pool(layer1, ksize=[1, 2, 2, 1], strides=[1, 2, 2 , 1], padding='SAME')\n",
    "layer2 = tf.contrib.layers.conv2d(pool1,out_channel,kernel_size=3,activation_fn=tf.nn.relu, padding='SAME')\n",
    "pool2  = tf.nn.max_pool(layer2, ksize=[1, 2, 2, 1], strides=[1, 2, 2 , 1], padding='SAME')\n",
    "pool2_flat = tf.reshape(pool2, [-1, 7*7*out_channel])\n",
    "\n",
    "hidden = tf.contrib.layers.fully_connected(pool2_flat,hidden_node,activation_fn=tf.nn.relu)\n",
    "hidden = tf.contrib.layers.fully_connected(hidden,hidden_node,activation_fn=tf.nn.relu)\n",
    "\n",
    "prediction = tf.contrib.layers.fully_connected(hidden,10,activation_fn=tf.nn.sigmoid)\n"
   ]
  },
  {
   "cell_type": "markdown",
   "metadata": {},
   "source": [
    "Reproduce this model!\n",
    "![Image of Yaktocat](http://7xi3e9.com1.z0.glb.clouddn.com/cnnmnist.png)"
   ]
  },
  {
   "cell_type": "code",
   "execution_count": 64,
   "metadata": {
    "collapsed": true
   },
   "outputs": [],
   "source": [
    "x_cnn = tf.reshape(x, [-1,28,28,1])\n",
    "# Reproduce model!\n",
    "\n",
    "\n",
    "\n",
    "\n",
    "\n",
    "prediction = tf.contrib.layers.fully_connected(hidden,10,activation_fn=tf.nn.sigmoid)\n"
   ]
  },
  {
   "cell_type": "markdown",
   "metadata": {},
   "source": [
    "## Launch Your Graph : Start Training!"
   ]
  },
  {
   "cell_type": "markdown",
   "metadata": {},
   "source": [
    "Cross Entropy Loss and Initialize all variables"
   ]
  },
  {
   "cell_type": "code",
   "execution_count": 13,
   "metadata": {},
   "outputs": [
    {
     "name": "stdout",
     "output_type": "stream",
     "text": [
      "WARNING:tensorflow:From <ipython-input-13-e608e813f3d3>:12: initialize_all_variables (from tensorflow.python.ops.variables) is deprecated and will be removed after 2017-03-02.\n",
      "Instructions for updating:\n",
      "Use `tf.global_variables_initializer` instead.\n"
     ]
    }
   ],
   "source": [
    "learning_rate = 0.001\n",
    "\n",
    "# Define loss and optimizer\n",
    "cost = tf.reduce_mean(tf.nn.softmax_cross_entropy_with_logits(logits=prediction, labels=y))\n",
    "optimizer = tf.train.AdamOptimizer(learning_rate=learning_rate).minimize(cost)\n",
    "\n",
    "# Evaluate model\n",
    "correct_pred = tf.equal(tf.argmax(prediction,1), tf.argmax(y,1))\n",
    "accuracy = tf.reduce_mean(tf.cast(correct_pred, tf.float32))\n",
    "\n",
    "# Initializing the variables\n",
    "init = tf.initialize_all_variables()"
   ]
  },
  {
   "cell_type": "code",
   "execution_count": 15,
   "metadata": {
    "scrolled": true
   },
   "outputs": [
    {
     "name": "stdout",
     "output_type": "stream",
     "text": [
      "Iter 10, Minibatch Loss=2.055771, Training Accuracy=0.60156\n",
      "Iter 20, Minibatch Loss=1.815443, Training Accuracy=0.74219\n",
      "Iter 30, Minibatch Loss=1.675814, Training Accuracy=0.78125\n",
      "Iter 40, Minibatch Loss=1.650081, Training Accuracy=0.81250\n",
      "Iter 50, Minibatch Loss=1.630690, Training Accuracy=0.82812\n",
      "Iter 60, Minibatch Loss=1.595826, Training Accuracy=0.81250\n",
      "Iter 70, Minibatch Loss=1.611128, Training Accuracy=0.85156\n",
      "Iter 80, Minibatch Loss=1.587308, Training Accuracy=0.83594\n",
      "Iter 90, Minibatch Loss=1.587702, Training Accuracy=0.85156\n",
      "Iter 100, Minibatch Loss=1.590848, Training Accuracy=0.89062\n",
      "Iter 110, Minibatch Loss=1.551239, Training Accuracy=0.92969\n",
      "Iter 120, Minibatch Loss=1.594403, Training Accuracy=0.87500\n",
      "Iter 130, Minibatch Loss=1.567799, Training Accuracy=0.88281\n",
      "Iter 140, Minibatch Loss=1.534439, Training Accuracy=0.93750\n",
      "Iter 150, Minibatch Loss=1.567392, Training Accuracy=0.88281\n",
      "Iter 160, Minibatch Loss=1.522931, Training Accuracy=0.91406\n",
      "Iter 170, Minibatch Loss=1.517147, Training Accuracy=0.96094\n",
      "Iter 180, Minibatch Loss=1.558945, Training Accuracy=0.87500\n",
      "Iter 190, Minibatch Loss=1.519679, Training Accuracy=0.94531\n",
      "Iter 200, Minibatch Loss=1.519543, Training Accuracy=0.93750\n",
      "Iter 210, Minibatch Loss=1.529854, Training Accuracy=0.92969\n",
      "Iter 220, Minibatch Loss=1.530469, Training Accuracy=0.92969\n",
      "Iter 230, Minibatch Loss=1.511529, Training Accuracy=0.96094\n",
      "Iter 240, Minibatch Loss=1.529302, Training Accuracy=0.92188\n",
      "Iter 250, Minibatch Loss=1.541255, Training Accuracy=0.92188\n",
      "Iter 260, Minibatch Loss=1.501531, Training Accuracy=0.96094\n",
      "Iter 270, Minibatch Loss=1.548393, Training Accuracy=0.92188\n",
      "Iter 280, Minibatch Loss=1.514358, Training Accuracy=0.96094\n",
      "Iter 290, Minibatch Loss=1.530920, Training Accuracy=0.91406\n",
      "Iter 300, Minibatch Loss=1.520147, Training Accuracy=0.92188\n",
      "Iter 310, Minibatch Loss=1.504541, Training Accuracy=0.92969\n",
      "Iter 320, Minibatch Loss=1.508214, Training Accuracy=0.94531\n",
      "Iter 330, Minibatch Loss=1.509431, Training Accuracy=0.93750\n",
      "Iter 340, Minibatch Loss=1.494511, Training Accuracy=0.96094\n",
      "Iter 350, Minibatch Loss=1.508183, Training Accuracy=0.95312\n",
      "Iter 360, Minibatch Loss=1.528034, Training Accuracy=0.93750\n",
      "Iter 370, Minibatch Loss=1.492234, Training Accuracy=0.95312\n",
      "Iter 380, Minibatch Loss=1.494878, Training Accuracy=0.93750\n",
      "Iter 390, Minibatch Loss=1.520379, Training Accuracy=0.93750\n",
      "Iter 400, Minibatch Loss=1.499463, Training Accuracy=0.96875\n",
      "Iter 410, Minibatch Loss=1.521966, Training Accuracy=0.94531\n",
      "Iter 420, Minibatch Loss=1.542059, Training Accuracy=0.89844\n",
      "Iter 430, Minibatch Loss=1.501590, Training Accuracy=0.96875\n",
      "Iter 440, Minibatch Loss=1.504143, Training Accuracy=0.96094\n",
      "Iter 450, Minibatch Loss=1.496209, Training Accuracy=0.93750\n",
      "Iter 460, Minibatch Loss=1.532653, Training Accuracy=0.92188\n",
      "Iter 470, Minibatch Loss=1.491264, Training Accuracy=0.96875\n",
      "Iter 480, Minibatch Loss=1.528581, Training Accuracy=0.93750\n",
      "Iter 490, Minibatch Loss=1.496224, Training Accuracy=0.96094\n",
      "Iter 500, Minibatch Loss=1.508864, Training Accuracy=0.93750\n",
      "Iter 510, Minibatch Loss=1.518623, Training Accuracy=0.93750\n",
      "Iter 520, Minibatch Loss=1.499848, Training Accuracy=0.97656\n",
      "Iter 530, Minibatch Loss=1.505121, Training Accuracy=0.95312\n",
      "Iter 540, Minibatch Loss=1.509547, Training Accuracy=0.95312\n",
      "Iter 550, Minibatch Loss=1.507817, Training Accuracy=0.91406\n",
      "Iter 560, Minibatch Loss=1.495927, Training Accuracy=0.98438\n",
      "Iter 570, Minibatch Loss=1.520905, Training Accuracy=0.92969\n",
      "Iter 580, Minibatch Loss=1.491235, Training Accuracy=0.97656\n",
      "Iter 590, Minibatch Loss=1.499773, Training Accuracy=0.96094\n",
      "Iter 600, Minibatch Loss=1.500967, Training Accuracy=0.95312\n",
      "Iter 610, Minibatch Loss=1.496611, Training Accuracy=0.95312\n",
      "Iter 620, Minibatch Loss=1.496030, Training Accuracy=0.96094\n",
      "Iter 630, Minibatch Loss=1.503508, Training Accuracy=0.96094\n",
      "Iter 640, Minibatch Loss=1.491020, Training Accuracy=0.95312\n",
      "Iter 650, Minibatch Loss=1.492775, Training Accuracy=0.93750\n",
      "Iter 660, Minibatch Loss=1.480138, Training Accuracy=0.98438\n",
      "Iter 670, Minibatch Loss=1.488120, Training Accuracy=0.97656\n",
      "Iter 680, Minibatch Loss=1.491868, Training Accuracy=0.96094\n",
      "Iter 690, Minibatch Loss=1.493706, Training Accuracy=0.96875\n",
      "Iter 700, Minibatch Loss=1.491318, Training Accuracy=0.96875\n",
      "Iter 710, Minibatch Loss=1.520813, Training Accuracy=0.92188\n",
      "Iter 720, Minibatch Loss=1.505461, Training Accuracy=0.96094\n",
      "Iter 730, Minibatch Loss=1.522963, Training Accuracy=0.92188\n",
      "Iter 740, Minibatch Loss=1.503281, Training Accuracy=0.94531\n",
      "Iter 750, Minibatch Loss=1.499482, Training Accuracy=0.97656\n",
      "Iter 760, Minibatch Loss=1.508393, Training Accuracy=0.95312\n",
      "Iter 770, Minibatch Loss=1.498098, Training Accuracy=0.95312\n",
      "Iter 780, Minibatch Loss=1.478488, Training Accuracy=0.97656\n",
      "Optimization Finished!\n",
      "Testing Accuracy:0.9921875\n"
     ]
    }
   ],
   "source": [
    "# Launch the graph\n",
    "\n",
    "# Training Parameters\n",
    "training_iters = 100000\n",
    "batch_size = 128\n",
    "display_step = 10\n",
    "\n",
    "with tf.Session() as sess:\n",
    "    sess.run(init)\n",
    "    step = 1\n",
    "    # Keep training until reach max iterations\n",
    "    while step * batch_size < training_iters:\n",
    "        batch_x, batch_y = mnist.train.next_batch(batch_size)\n",
    "        # Reshape data to get 28 seq of 28 elements\n",
    "        batch_x = batch_x.reshape((batch_size, n_steps, n_input))\n",
    "        # Run optimization op (backprop)\n",
    "        sess.run(optimizer, feed_dict={x: batch_x, y: batch_y})\n",
    "        if step % display_step == 0:\n",
    "            # Calculate batch accuracy\n",
    "            acc = sess.run(accuracy, feed_dict={x: batch_x, y: batch_y})\n",
    "            # Calculate batch loss\n",
    "            loss = sess.run(cost, feed_dict={x: batch_x, y: batch_y})\n",
    "            print(\"Iter {}, Minibatch Loss={:.6f}, Training Accuracy={:.5f}\".format(step,\n",
    "                                                                                    loss, acc))\n",
    "        step += 1\n",
    "    print(\"Optimization Finished!\")\n",
    "\n",
    "    # Calculate accuracy for 128 mnist test images\n",
    "    test_len = 128\n",
    "    test_data = mnist.test.images[:test_len].reshape((-1, n_steps, n_input))\n",
    "    test_label = mnist.test.labels[:test_len]\n",
    "    print(\"Testing Accuracy:{}\".format(sess.run(accuracy, feed_dict={x: test_data, y: test_label})))\n",
    "    predicted_prob = sess.run(prediction, feed_dict={x: test_data})"
   ]
  },
  {
   "cell_type": "code",
   "execution_count": 16,
   "metadata": {},
   "outputs": [
    {
     "data": {
      "text/plain": [
       "(128, 10)"
      ]
     },
     "execution_count": 16,
     "metadata": {},
     "output_type": "execute_result"
    }
   ],
   "source": [
    "predicted_prob.shape"
   ]
  },
  {
   "cell_type": "markdown",
   "metadata": {},
   "source": [
    "## Result Analysis!"
   ]
  },
  {
   "cell_type": "code",
   "execution_count": 19,
   "metadata": {},
   "outputs": [
    {
     "name": "stdout",
     "output_type": "stream",
     "text": [
      "Wrong answer list : \n",
      "[8]\n"
     ]
    }
   ],
   "source": [
    "wrong_list=np.where(np.argmax(predicted_prob,1) != np.argmax(test_label,1))[0].tolist()\n",
    "print \"Wrong answer list : \"\n",
    "print wrong_list"
   ]
  },
  {
   "cell_type": "code",
   "execution_count": null,
   "metadata": {
    "scrolled": true
   },
   "outputs": [
    {
     "name": "stdout",
     "output_type": "stream",
     "text": [
      "Predicted Label number : 6\n"
     ]
    },
    {
     "data": {
      "image/png": "[encoded data removed]",
      "text/plain": [
       "<matplotlib.figure.Figure at 0x7fa9495b0750>"
      ]
     },
     "metadata": {},
     "output_type": "display_data"
    }
   ],
   "source": [
    "%matplotlib inline\n",
    "import matplotlib.pyplot as plt\n",
    "import time\n",
    "\n",
    "for ind in wrong_list:\n",
    "    print 'Predicted Label number : ' + str(np.argmax(predicted_prob[ind]))\n",
    "    plt.imshow(test_data[ind],cmap='gray')\n",
    "    plt.show()\n",
    "    a = raw_input('Next plot?\\n')\n",
    "    if a == 'q':\n",
    "        break"
   ]
  },
  {
   "cell_type": "markdown",
   "metadata": {},
   "source": [
    "Lenet - 1 CNN의 전신"
   ]
  },
  {
   "cell_type": "markdown",
   "metadata": {
    "collapsed": true
   },
   "source": [
    "![Image of Yaktocat](http://blogthumb2.naver.net/20160307_154/laonple_1457362135978fdcpT_JPEG/1.jpg?type=w2)"
   ]
  },
  {
   "cell_type": "markdown",
   "metadata": {},
   "source": [
    "Lenet - 5 : Convolution + fully connected network"
   ]
  },
  {
   "cell_type": "markdown",
   "metadata": {},
   "source": [
    "![Image of Yaktocat](https://i1.read01.com/uploads/0F0bSLiV4J.jpg)"
   ]
  },
  {
   "cell_type": "markdown",
   "metadata": {},
   "source": [
    "초기 MNIST 성능비교\n",
    "![Image of Yaktocat](http://postfiles7.naver.net/20160307_246/laonple_14573621369260G69J_JPEG/3.jpg?type=w2)"
   ]
  },
  {
   "cell_type": "code",
   "execution_count": null,
   "metadata": {
    "collapsed": true
   },
   "outputs": [],
   "source": []
  }
 ],
 "metadata": {
  "kernelspec": {
   "display_name": "Python 2",
   "language": "python",
   "name": "python2"
  },
  "language_info": {
   "codemirror_mode": {
    "name": "ipython",
    "version": 2
   },
   "file_extension": ".py",
   "mimetype": "text/x-python",
   "name": "python",
   "nbconvert_exporter": "python",
   "pygments_lexer": "ipython2",
   "version": "2.7.6"
  }
 },
 "nbformat": 4,
 "nbformat_minor": 2
}
